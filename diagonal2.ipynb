{
  "nbformat": 4,
  "nbformat_minor": 0,
  "metadata": {
    "colab": {
      "provenance": [],
      "authorship_tag": "ABX9TyOWYtZLJ32b0/g8HL0M7Mh7",
      "include_colab_link": true
    },
    "kernelspec": {
      "name": "python3",
      "display_name": "Python 3"
    },
    "language_info": {
      "name": "python"
    }
  },
  "cells": [
    {
      "cell_type": "markdown",
      "metadata": {
        "id": "view-in-github",
        "colab_type": "text"
      },
      "source": [
        "<a href=\"https://colab.research.google.com/github/koech-Alex/Grid-Pathfinding-with-Diagonal-Movement-Using-GBFS-and-Visualization/blob/main/diagonal2.ipynb\" target=\"_parent\"><img src=\"https://colab.research.google.com/assets/colab-badge.svg\" alt=\"Open In Colab\"/></a>"
      ]
    },
    {
      "cell_type": "code",
      "execution_count": null,
      "metadata": {
        "colab": {
          "base_uri": "https://localhost:8080/",
          "height": 545
        },
        "id": "0KAUhZGEjxb8",
        "outputId": "655d920c-b5a6-4953-9f61-e43558c905ea"
      },
      "outputs": [
        {
          "output_type": "display_data",
          "data": {
            "text/plain": [
              "<Figure size 600x600 with 1 Axes>"
            ],
            "image/png": "[encoded data removed]"
          },
          "metadata": {}
        }
      ],
      "source": [
        "import matplotlib.pyplot as plt\n",
        "import networkx as nx\n",
        "import numpy as np\n",
        "\n",
        "def gbfs(grid, start, goal):\n",
        "    \"\"\"\n",
        "    Implements GBFS for grid pathfinding with diagonal movement.\n",
        "\n",
        "    Args:\n",
        "        grid: A 2D grid representing the environment.\n",
        "        start: The starting coordinates.\n",
        "        goal: The goal coordinates.\n",
        "\n",
        "    Returns:\n",
        "        A list of explored nodes and the final path.\n",
        "    \"\"\"\n",
        "\n",
        "    # Create a graph to represent the grid\n",
        "    G = nx.Graph()\n",
        "\n",
        "    # Add nodes and edges to the graph\n",
        "    for i in range(len(grid)):\n",
        "        for j in range(len(grid[0])):\n",
        "            if grid[i][j] == 0:  # Ignore obstacles\n",
        "                G.add_node((i, j))\n",
        "                if i > 0:\n",
        "                    G.add_edge((i, j), (i - 1, j), weight=1)\n",
        "                if i < len(grid) - 1:\n",
        "                    G.add_edge((i, j), (i + 1, j), weight=1)\n",
        "                if j > 0:\n",
        "                    G.add_edge((i, j), (i, j - 1), weight=1)\n",
        "                if j < len(grid[0]) - 1:\n",
        "                    G.add_edge((i, j), (i, j + 1), weight=1)\n",
        "                if i > 0 and j > 0:\n",
        "                    G.add_edge((i, j), (i - 1, j - 1), weight=1.414)  # Diagonal move\n",
        "                if i < len(grid) - 1 and j > 0:\n",
        "                    G.add_edge((i, j), (i + 1, j - 1), weight=1.414)\n",
        "                if i > 0 and j < len(grid[0]) - 1:\n",
        "                    G.add_edge((i, j), (i - 1, j + 1), weight=1.414)\n",
        "                if i < len(grid) - 1 and j < len(grid[0]) - 1:\n",
        "                    G.add_edge((i, j), (i + 1, j + 1), weight=1.414)\n",
        "\n",
        "    # Define the heuristic function (Euclidean distance)\n",
        "    def heuristic(node):\n",
        "        return np.sqrt((node[0] - goal[0])**2 + (node[1] - goal[1])**2)\n",
        "\n",
        "    # GBFS algorithm\n",
        "    open_set = [(heuristic(start), start)]\n",
        "    closed_set = set()\n",
        "    parent = {}\n",
        "    while open_set:\n",
        "        current = open_set.pop(0)[1]\n",
        "        if current == goal:\n",
        "            path = []\n",
        "            while current in parent:\n",
        "                path.append(current)\n",
        "                current = parent[current]\n",
        "            path.reverse()\n",
        "            return closed_set, path\n",
        "        closed_set.add(current)\n",
        "        for neighbor in G.neighbors(current):\n",
        "            if neighbor not in closed_set:\n",
        "                new_cost = heuristic(neighbor)\n",
        "                if (new_cost, neighbor) not in open_set:\n",
        "                    open_set.append((new_cost, neighbor))\n",
        "                    parent[neighbor] = current\n",
        "                    open_set.sort()  # Sort by heuristic\n",
        "\n",
        "    return None, None\n",
        "\n",
        "# Example usage\n",
        "grid = [[0, 0, 0, 0, 0],\n",
        "        [0, 0, 1, 0, 0],\n",
        "        [0, 0, 1, 0, 0],\n",
        "        [0, 0, 0, 0, 0],\n",
        "        [0, 0, 0, 0, 0]]\n",
        "start = (0, 0)\n",
        "goal = (4, 4)\n",
        "\n",
        "explored, path = gbfs(grid, start, goal)\n",
        "\n",
        "# Visualization\n",
        "plt.figure(figsize=(6, 6))\n",
        "plt.imshow(grid, cmap='gray', interpolation='nearest')\n",
        "plt.scatter(*zip(*explored), color='yellow', label='Explored')\n",
        "plt.plot(*zip(*path), color='green', linewidth=2, label='Path')\n",
        "plt.title('GBFS with Diagonal Movement')\n",
        "plt.legend()\n",
        "plt.show()"
      ]
    }
  ]
}