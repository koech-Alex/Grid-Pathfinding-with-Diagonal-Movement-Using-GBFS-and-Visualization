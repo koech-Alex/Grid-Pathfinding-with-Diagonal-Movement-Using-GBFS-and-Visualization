{
  "nbformat": 4,
  "nbformat_minor": 0,
  "metadata": {
    "colab": {
      "provenance": [],
      "authorship_tag": "ABX9TyN/WddOyYb/l2ZTO58sucA2",
      "include_colab_link": true
    },
    "kernelspec": {
      "name": "python3",
      "display_name": "Python 3"
    },
    "language_info": {
      "name": "python"
    }
  },
  "cells": [
    {
      "cell_type": "markdown",
      "metadata": {
        "id": "view-in-github",
        "colab_type": "text"
      },
      "source": [
        "<a href=\"https://colab.research.google.com/github/koech-Alex/Grid-Pathfinding-with-Diagonal-Movement-Using-GBFS-and-Visualization/blob/main/AI_ASSIGNMENT.ipynb\" target=\"_parent\"><img src=\"https://colab.research.google.com/assets/colab-badge.svg\" alt=\"Open In Colab\"/></a>"
      ]
    },
    {
      "cell_type": "markdown",
      "source": [
        "QUESTION 1"
      ],
      "metadata": {
        "id": "a2CkTa2CKoBz"
      }
    },
    {
      "cell_type": "code",
      "execution_count": null,
      "metadata": {
        "colab": {
          "base_uri": "https://localhost:8080/",
          "height": 452
        },
        "id": "aZBhEUUUKJnV",
        "outputId": "1921fd71-8e1a-419e-a403-7e0ba651c07f"
      },
      "outputs": [
        {
          "output_type": "display_data",
          "data": {
            "text/plain": [
              "<Figure size 640x480 with 1 Axes>"
            ],
            "image/png": "[encoded data removed]"
          },
          "metadata": {}
        }
      ],
      "source": [
        "import heapq\n",
        "import matplotlib.pyplot as plt\n",
        "import numpy as np\n",
        "\n",
        "def manhattan_distance(node, goal):\n",
        "    \"\"\"Calculates the Manhattan distance between two nodes.\"\"\"\n",
        "    return abs(node[0] - goal[0]) + abs(node[1] - goal[1])\n",
        "\n",
        "def greedy_best_first_search(maze, start, goal):\n",
        "    \"\"\"Solves the maze using Greedy Best-First Search.\"\"\"\n",
        "    rows, cols = len(maze), len(maze[0])\n",
        "    visited = set()\n",
        "    heap = [(0, start)]  # (heuristic, node)\n",
        "    parent = {}  # To reconstruct the path\n",
        "\n",
        "    while heap:\n",
        "        _, current = heapq.heappop(heap)\n",
        "        if current == goal:\n",
        "            return reconstruct_path(parent, start, goal)\n",
        "\n",
        "        visited.add(current)\n",
        "\n",
        "        for dx, dy in [(0, 1), (1, 0), (0, -1), (-1, 0)]:\n",
        "            neighbor = (current[0] + dx, current[1] + dy)\n",
        "            if neighbor not in visited and 0 <= neighbor[0] < rows and 0 <= neighbor[1] < cols and maze[neighbor[0]][neighbor[1]] == 0:\n",
        "                heapq.heappush(heap, (manhattan_distance(neighbor, goal), neighbor))\n",
        "                parent[neighbor] = current\n",
        "\n",
        "    return None  # No path found\n",
        "\n",
        "def reconstruct_path(parent, start, goal):\n",
        "    \"\"\"Reconstructs the path from start to goal.\"\"\"\n",
        "    path = [goal]\n",
        "    current = goal\n",
        "    while current != start:\n",
        "        current = parent[current]\n",
        "        path.append(current)\n",
        "    path.reverse()\n",
        "    return path\n",
        "\n",
        "def visualize_maze(maze, path, start, goal):\n",
        "    \"\"\"Visualizes the maze, path, and explored nodes.\"\"\"\n",
        "    plt.imshow(maze, cmap='gray', interpolation='nearest')\n",
        "    plt.scatter(*zip(*path), color='green', marker='o', s=100)\n",
        "    plt.scatter(start[0], start[1], color='blue', marker='s', s=200)\n",
        "    plt.scatter(goal[0], goal[1], color='red', marker='x', s=200)\n",
        "    plt.title(\"Maze Solving with Greedy Best-First Search\")\n",
        "    plt.show()\n",
        "\n",
        "# Example usage\n",
        "maze = [[0, 0, 1, 0, 0],\n",
        "        [0, 1, 0, 0, 0],\n",
        "        [0, 0, 0, 1, 0],\n",
        "        [0, 0, 1, 0, 0],\n",
        "        [0, 0, 0, 0, 0]]\n",
        "start = (0, 0)\n",
        "goal = (4, 4)\n",
        "\n",
        "path = greedy_best_first_search(maze, start, goal)\n",
        "if path:\n",
        "    visualize_maze(maze, path, start, goal)\n",
        "else:\n",
        "    print(\"No path found.\")"
      ]
    },
    {
      "cell_type": "markdown",
      "source": [
        "QUESTION 4"
      ],
      "metadata": {
        "id": "iBf2JU0UPAIN"
      }
    },
    {
      "cell_type": "code",
      "source": [
        "import heapq\n",
        "import matplotlib.pyplot as plt\n",
        "from mpl_toolkits.mplot3d import Axes3D\n",
        "\n",
        "def euclidean_distance(point1, point2):\n",
        "    \"\"\"Calculates the Euclidean distance between two points.\"\"\"\n",
        "    x1, y1, z1 = point1\n",
        "    x2, y2, z2 = point2\n",
        "    return ((x2 - x1) ** 2 + (y2 - y1) ** 2 + (z2 - z1) ** 2) ** 0.5\n",
        "\n",
        "def greedy_best_first_search(grid, start, goal):\n",
        "    \"\"\"Solves the 3D pathfinding problem using Greedy Best-First Search.\"\"\"\n",
        "    rows, cols, depth = grid.shape\n",
        "    visited = set()\n",
        "    heap = [(0, start)]  # (heuristic, point)\n",
        "    parent = {}  # To reconstruct the path\n",
        "    directions = [(1, 0, 0), (0, 1, 0), (0, 0, 1), (-1, 0, 0), (0, -1, 0), (0, 0, -1)]\n",
        "\n",
        "    while heap:\n",
        "        _, current = heapq.heappop(heap)\n",
        "        if current == goal:\n",
        "            return reconstruct_path(parent, start, goal)\n",
        "\n",
        "        visited.add(current)\n",
        "\n",
        "        for dx, dy, dz in directions:\n",
        "            neighbor = (current[0] + dx, current[1] + dy, current[2] + dz)\n",
        "            if neighbor not in visited and 0 <= neighbor[0] < rows and 0 <= neighbor[1] < cols and 0 <= neighbor[2] < depth and grid[neighbor[0]][neighbor[1]][neighbor[2]] == 0:\n",
        "                heapq.heappush(heap, (euclidean_distance(neighbor, goal), neighbor))\n",
        "                parent[neighbor] = current\n",
        "\n",
        "    return None  # No path found\n",
        "\n",
        "def reconstruct_path(parent, start, goal):\n",
        "    \"\"\"Reconstructs the path from start to goal.\"\"\"\n",
        "    path = [goal]\n",
        "    current = goal\n",
        "    while current != start:\n",
        "        current = parent[current]\n",
        "        path.append(current)\n",
        "    path.reverse()\n",
        "    return path\n",
        "\n",
        "def visualize_3d_environment(grid, path, start, goal):\n",
        "    \"\"\"Visualizes the 3D environment, path, and explored nodes.\"\"\"\n",
        "    fig = plt.figure()\n",
        "    ax = fig.add_subplot(111, projection='3d')\n",
        "    x, y, z = zip(*path)\n",
        "    ax.scatter(x, y, z, color='green', marker='o')\n",
        "    ax.scatter(*start, color='blue', marker='s')\n",
        "    ax.scatter(*goal, color='red', marker='x')\n",
        "    ax.set_xlabel('X')\n",
        "    ax.set_ylabel('Y')\n",
        "    ax.set_zlabel('Z')\n",
        "    plt.show()\n",
        "\n",
        "# Example usage\n",
        "grid = np.zeros((5, 5, 5))\n",
        "grid[2, 2, 1] = 1  # Obstacle\n",
        "start = (0, 0, 0)\n",
        "goal = (4, 4, 4)\n",
        "\n",
        "path = greedy_best_first_search(grid, start, goal)\n",
        "if path:\n",
        "    visualize_3d_environment(grid, path, start, goal)\n",
        "else:\n",
        "    print(\"No path found.\")"
      ],
      "metadata": {
        "colab": {
          "base_uri": "https://localhost:8080/",
          "height": 415
        },
        "id": "V2Vw4LlAOY2o",
        "outputId": "52de6dd5-996e-4187-8a41-5574e3f76472"
      },
      "execution_count": null,
      "outputs": [
        {
          "output_type": "display_data",
          "data": {
            "text/plain": [
              "<Figure size 640x480 with 1 Axes>"
            ],
            "image/png": "[encoded data removed]"
          },
          "metadata": {}
        }
      ]
    },
    {
      "cell_type": "markdown",
      "source": [
        "question 3"
      ],
      "metadata": {
        "id": "i1ZETvlMPLIN"
      }
    },
    {
      "cell_type": "code",
      "source": [],
      "metadata": {
        "id": "i5IH_w4GTmQO"
      },
      "execution_count": null,
      "outputs": []
    },
    {
      "cell_type": "code",
      "source": [
        "def print_board(board):\n",
        "    \"\"\"Prints the current state of the Tic-Tac-Toe board.\"\"\"\n",
        "    for row in board:\n",
        "        print(\" | \".join(row))\n",
        "        print(\"-\" * 9)\n",
        "\n",
        "def check_winner(board):\n",
        "    \"\"\"Checks if there's a winner or a tie.\"\"\"\n",
        "    # Check rows\n",
        "    for row in board:\n",
        "        if row[0] == row[1] == row[2] and row[0] != \" \":\n",
        "            return row[0]\n",
        "    # Check columns\n",
        "    for col in range(3):\n",
        "        if board[0][col] == board[1][col] == board[2][col] and board[0][col] != \" \":\n",
        "            return board[0][col]\n",
        "    # Check diagonals\n",
        "    if board[0][0] == board[1][1] == board[2][2] and board[0][0] != \" \":\n",
        "        return board[0][0]\n",
        "    if board[0][2] == board[1][1] == board[2][0] and board[0][2] != \" \":\n",
        "        return board[0][2]\n",
        "    # Check for tie\n",
        "    if all(all(cell != \" \" for cell in row) for row in board):\n",
        "        return \"Tie\"\n",
        "    return None\n",
        "\n",
        "def play_tic_tac_toe():\n",
        "    \"\"\"Main game loop.\"\"\"\n",
        "    board = [[\" \", \" \", \" \"], [\" \", \" \", \" \"], [\" \", \" \", \" \"]]\n",
        "    current_player = \"X\"\n",
        "    while True:\n",
        "        print_board(board)\n",
        "        row = int(input(f\"Player {current_player}, enter row (0-2): \"))\n",
        "        col = int(input(f\"Player {current_player}, enter column (0-2): \"))\n",
        "        if not (0 <= row < 3 and 0 <= col < 3) or board[row][col] != \" \":\n",
        "            print(\"Invalid move. Please try again.\")\n",
        "            continue\n",
        "        board[row][col] = current_player\n",
        "        winner = check_winner(board)\n",
        "        if winner:\n",
        "            print_board(board)\n",
        "            print(f\"Player {winner} wins!\")\n",
        "            break\n",
        "        current_player = \"O\" if current_player == \"X\" else \"X\"\n",
        "\n",
        "if __name__ == \"__main__\":\n",
        "    play_tic_tac_toe()"
      ],
      "metadata": {
        "colab": {
          "base_uri": "https://localhost:8080/"
        },
        "id": "1f2pcc3aRs1_",
        "outputId": "4ca468b4-3301-4f0f-f08c-a0212afcaf8d"
      },
      "execution_count": null,
      "outputs": [
        {
          "output_type": "stream",
          "name": "stdout",
          "text": [
            "  |   |  \n",
            "---------\n",
            "  |   |  \n",
            "---------\n",
            "  |   |  \n",
            "---------\n",
            "Player X, enter row (0-2): 2\n",
            "Player X, enter column (0-2): 1\n",
            "  |   |  \n",
            "---------\n",
            "  |   |  \n",
            "---------\n",
            "  | X |  \n",
            "---------\n",
            "Player O, enter row (0-2): 2\n",
            "Player O, enter column (0-2): 0\n",
            "  |   |  \n",
            "---------\n",
            "  |   |  \n",
            "---------\n",
            "O | X |  \n",
            "---------\n",
            "Player X, enter row (0-2): 2\n",
            "Player X, enter column (0-2): 1\n",
            "Invalid move. Please try again.\n",
            "  |   |  \n",
            "---------\n",
            "  |   |  \n",
            "---------\n",
            "O | X |  \n",
            "---------\n",
            "Player X, enter row (0-2): 2\n",
            "Player X, enter column (0-2): 0\n",
            "Invalid move. Please try again.\n",
            "  |   |  \n",
            "---------\n",
            "  |   |  \n",
            "---------\n",
            "O | X |  \n",
            "---------\n",
            "Player X, enter row (0-2): 1\n",
            "Player X, enter column (0-2): 1\n",
            "  |   |  \n",
            "---------\n",
            "  | X |  \n",
            "---------\n",
            "O | X |  \n",
            "---------\n",
            "Player O, enter row (0-2): 2\n",
            "Player O, enter column (0-2): 1\n",
            "Invalid move. Please try again.\n",
            "  |   |  \n",
            "---------\n",
            "  | X |  \n",
            "---------\n",
            "O | X |  \n",
            "---------\n",
            "Player O, enter row (0-2): 0\n",
            "Player O, enter column (0-2): 0\n",
            "O |   |  \n",
            "---------\n",
            "  | X |  \n",
            "---------\n",
            "O | X |  \n",
            "---------\n",
            "Player X, enter row (0-2): 1\n",
            "Player X, enter column (0-2): 1\n",
            "Invalid move. Please try again.\n",
            "O |   |  \n",
            "---------\n",
            "  | X |  \n",
            "---------\n",
            "O | X |  \n",
            "---------\n",
            "Player X, enter row (0-2): 1\n",
            "Player X, enter column (0-2): 2\n",
            "O |   |  \n",
            "---------\n",
            "  | X | X\n",
            "---------\n",
            "O | X |  \n",
            "---------\n",
            "Player O, enter row (0-2): 0\n",
            "Player O, enter column (0-2): 1\n",
            "O | O |  \n",
            "---------\n",
            "  | X | X\n",
            "---------\n",
            "O | X |  \n",
            "---------\n",
            "Player X, enter row (0-2): 1\n",
            "Player X, enter column (0-2): 2\n",
            "Invalid move. Please try again.\n",
            "O | O |  \n",
            "---------\n",
            "  | X | X\n",
            "---------\n",
            "O | X |  \n",
            "---------\n",
            "Player X, enter row (0-2): 0\n",
            "Player X, enter column (0-2): 2\n",
            "O | O | X\n",
            "---------\n",
            "  | X | X\n",
            "---------\n",
            "O | X |  \n",
            "---------\n",
            "Player O, enter row (0-2): 0\n",
            "Player O, enter column (0-2): 2\n",
            "Invalid move. Please try again.\n",
            "O | O | X\n",
            "---------\n",
            "  | X | X\n",
            "---------\n",
            "O | X |  \n",
            "---------\n",
            "Player O, enter row (0-2): 1\n",
            "Player O, enter column (0-2): 1\n",
            "Invalid move. Please try again.\n",
            "O | O | X\n",
            "---------\n",
            "  | X | X\n",
            "---------\n",
            "O | X |  \n",
            "---------\n",
            "Player O, enter row (0-2): 2\n",
            "Player O, enter column (0-2): 2\n",
            "O | O | X\n",
            "---------\n",
            "  | X | X\n",
            "---------\n",
            "O | X | O\n",
            "---------\n",
            "Player X, enter row (0-2): 0\n",
            "Player X, enter column (0-2): 0\n",
            "Invalid move. Please try again.\n",
            "O | O | X\n",
            "---------\n",
            "  | X | X\n",
            "---------\n",
            "O | X | O\n",
            "---------\n",
            "Player X, enter row (0-2): 1\n",
            "Player X, enter column (0-2): 0\n",
            "O | O | X\n",
            "---------\n",
            "X | X | X\n",
            "---------\n",
            "O | X | O\n",
            "---------\n",
            "Player X wins!\n"
          ]
        }
      ]
    },
    {
      "cell_type": "markdown",
      "source": [
        "question 4"
      ],
      "metadata": {
        "id": "uzMYJK1vUWmh"
      }
    },
    {
      "cell_type": "code",
      "source": [
        "import numpy as np\n",
        "import matplotlib.pyplot as plt\n",
        "\n",
        "def evaluate_board(board):\n",
        "    \"\"\"Evaluates the board for a win, loss, or tie.\"\"\"\n",
        "    for row in range(6):\n",
        "        for col in range(4):\n",
        "            if board[row][col] == board[row][col + 1] == board[row][col + 2] == board[row][col + 3] and board[row][col] != 0:\n",
        "                return board[row][col] * 10\n",
        "    for row in range(3):\n",
        "        for col in range(7):\n",
        "            if board[row][col] == board[row + 1][col] == board[row + 2][col] == board[row + 3][col] and board[row][col] != 0:\n",
        "                return board[row][col] * 10\n",
        "    for row in range(3):\n",
        "        for col in range(4):\n",
        "            if board[row][col] == board[row + 1][col + 1] == board[row + 2][col + 2] == board[row + 3][col + 3] and board[row][col] != 0:\n",
        "                return board[row][col] * 10\n",
        "    for row in range(3):\n",
        "        for col in range(3):\n",
        "            if board[row][col] == board[row + 1][col + 1] == board[row + 2][col + 2] == board[row + 3][col + 3] and board[row][col] != 0:\n",
        "                return board[row][col] * 10\n",
        "    return 0\n",
        "\n",
        "def minimax(board, depth, maximizing_player, alpha, beta):\n",
        "    \"\"\"Implements the Minimax algorithm with Alpha-Beta Pruning.\"\"\"\n",
        "    if depth == 0 or evaluate_board(board) != 0:\n",
        "        return evaluate_board(board)\n",
        "\n",
        "    if maximizing_player:\n",
        "        max_eval = -float('inf')\n",
        "        for col in range(7):\n",
        "            if board[0][col] == 0:\n",
        "                row = next_available_row(board, col)\n",
        "                board[row][col] = 1\n",
        "                eval = minimax(board, depth - 1, False, alpha, beta)\n",
        "                board[row][col] = 0\n",
        "                max_eval = max(max_eval, eval)\n",
        "                alpha = max(alpha, eval)\n",
        "                if beta <= alpha:\n",
        "                    break  # Pruning\n",
        "        return max_eval\n",
        "    else:\n",
        "        min_eval = float('inf')\n",
        "        for col in range(7):\n",
        "            if board[0][col] == 0:\n",
        "                row = next_available_row(board, col)\n",
        "                board[row][col] = -1\n",
        "                eval = minimax(board, depth - 1, True, alpha, beta)\n",
        "                board[row][col] = 0\n",
        "                min_eval = min(min_eval, eval)\n",
        "                beta = min(beta, eval)\n",
        "                if beta <= alpha:\n",
        "                    break  # Pruning\n",
        "        return min_eval\n",
        "\n",
        "def find_best_move(board):\n",
        "    \"\"\"Finds the best move for the AI using Minimax with Alpha-Beta Pruning.\"\"\"\n",
        "    best_move = None\n",
        "    best_eval = -float('inf')\n",
        "    for col in range(7):\n",
        "        if board[0][col] == 0:\n",
        "            row = next_available_row(board, col)\n",
        "            board[row][col] = 1\n",
        "            eval = minimax(board, 3, False, -float('inf'), float('inf'))\n",
        "            board[row][col] = 0\n",
        "            if eval > best_eval:\n",
        "                best_eval = eval\n",
        "                best_move = col\n",
        "    return best_move\n",
        "\n",
        "def next_available_row(board, col):\n",
        "    \"\"\"Finds the next available row for a given column.\"\"\"\n",
        "    for row in range(5, -1, -1):\n",
        "        if board[row][col] == 0:\n",
        "            return row\n",
        "    return -1\n",
        "\n",
        "def visualize_board(board):\n",
        "    \"\"\"Visualizes the Connect-4 board.\"\"\"\n",
        "    plt.imshow(board, cmap='gray', interpolation='nearest')\n",
        "    plt.title(\"Connect-4\")\n",
        "    plt.show()\n",
        "\n",
        "def play_connect_four():\n",
        "    \"\"\"Main game loop.\"\"\"\n",
        "    board = np.zeros((6, 7))\n",
        "    current_player = 1\n",
        "    while True:\n",
        "        if current_player == 1:\n",
        "            col = find_best_move(board)\n",
        "            row = next_available_row(board, col)\n",
        "            board[row][col] = 1\n",
        "        else:\n",
        "            col = int(input(\"Enter column (0-6): \"))\n",
        "            row = next_available_row(board, col)\n",
        "            if row == -1:\n",
        "                print(\"Invalid move. Please try again.\")\n",
        "                continue\n",
        "            board[row][col] = -1\n",
        "\n",
        "        winner = evaluate_board(board)\n",
        "        if winner != 0:\n",
        "            visualize_board(board)\n",
        "            if winner == 10:\n",
        "                print(\"AI wins!\")\n",
        "            elif winner == -10:\n",
        "                print(\"You win!\")\n",
        "            else:\n",
        "                print(\"Tie!\")\n",
        "            break\n",
        "\n",
        "        visualize_board(board)\n",
        "        current_player *= -1\n",
        "\n",
        "if __name__ == \"__main__\":\n",
        "    play_connect_four()"
      ],
      "metadata": {
        "colab": {
          "base_uri": "https://localhost:8080/",
          "height": 4019
        },
        "id": "9z2svRKRUWLf",
        "outputId": "4a1b73d0-063c-4449-bb62-9184b94fb2d2"
      },
      "execution_count": null,
      "outputs": [
        {
          "output_type": "display_data",
          "data": {
            "text/plain": [
              "<Figure size 640x480 with 1 Axes>"
            ],
            "image/png": "[encoded data removed]"
          },
          "metadata": {}
        },
        {
          "name": "stdout",
          "output_type": "stream",
          "text": [
            "Enter column (0-6): 0\n"
          ]
        },
        {
          "output_type": "display_data",
          "data": {
            "text/plain": [
              "<Figure size 640x480 with 1 Axes>"
            ],
            "image/png": "[encoded data removed]"
          },
          "metadata": {}
        },
        {
          "output_type": "display_data",
          "data": {
            "text/plain": [
              "<Figure size 640x480 with 1 Axes>"
            ],
            "image/png": "[encoded data removed]"
          },
          "metadata": {}
        },
        {
          "name": "stdout",
          "output_type": "stream",
          "text": [
            "Enter column (0-6): 1\n"
          ]
        },
        {
          "output_type": "display_data",
          "data": {
            "text/plain": [
              "<Figure size 640x480 with 1 Axes>"
            ],
            "image/png": "[encoded data removed]"
          },
          "metadata": {}
        },
        {
          "output_type": "display_data",
          "data": {
            "text/plain": [
              "<Figure size 640x480 with 1 Axes>"
            ],
            "image/png": "[encoded data removed]"
          },
          "metadata": {}
        },
        {
          "name": "stdout",
          "output_type": "stream",
          "text": [
            "Enter column (0-6): 2\n"
          ]
        },
        {
          "output_type": "display_data",
          "data": {
            "text/plain": [
              "<Figure size 640x480 with 1 Axes>"
            ],
            "image/png": "[encoded data removed]"
          },
          "metadata": {}
        },
        {
          "output_type": "display_data",
          "data": {
            "text/plain": [
              "<Figure size 640x480 with 1 Axes>"
            ],
            "image/png": "[encoded data removed]"
          },
          "metadata": {}
        },
        {
          "name": "stdout",
          "output_type": "stream",
          "text": [
            "Enter column (0-6): 3\n"
          ]
        },
        {
          "output_type": "display_data",
          "data": {
            "text/plain": [
              "<Figure size 640x480 with 1 Axes>"
            ],
            "image/png": "[encoded data removed]"
          },
          "metadata": {}
        },
        {
          "output_type": "display_data",
          "data": {
            "text/plain": [
              "<Figure size 640x480 with 1 Axes>"
            ],
            "image/png": "[encoded data removed]"
          },
          "metadata": {}
        },
        {
          "output_type": "stream",
          "name": "stdout",
          "text": [
            "AI wins!\n"
          ]
        }
      ]
    },
    {
      "cell_type": "markdown",
      "source": [
        "question 5"
      ],
      "metadata": {
        "id": "Z2fJ7tl5VOtN"
      }
    },
    {
      "cell_type": "code",
      "source": [
        "import numpy as np\n",
        "import matplotlib.pyplot as plt\n",
        "import heapq\n",
        "import math\n",
        "\n",
        "# Define movement directions (8 directions: horizontal, vertical, diagonal)\n",
        "directions = [(-1, 0), (1, 0), (0, -1), (0, 1), (-1, -1), (-1, 1), (1, -1), (1, 1)]\n",
        "\n",
        "# Euclidean distance heuristic\n",
        "def euclidean_distance(current, goal):\n",
        "    return math.sqrt((current[0] - goal[0])**2 + (current[1] - goal[1])**2)\n",
        "\n",
        "# Greedy Best-First Search (GBFS) algorithm\n",
        "def gbfs(grid, start, goal):\n",
        "    rows, cols = len(grid), len(grid[0])\n",
        "    priority_queue = []\n",
        "    heapq.heappush(priority_queue, (euclidean_distance(start, goal), start))\n",
        "\n",
        "    came_from = {start: None}  # Track the path\n",
        "    visited = set()\n",
        "\n",
        "    while priority_queue:\n",
        "        _, current = heapq.heappop(priority_queue)\n",
        "\n",
        "        if current in visited:\n",
        "            continue\n",
        "        visited.add(current)\n",
        "\n",
        "        # If goal is reached, reconstruct the path\n",
        "        if current == goal:\n",
        "            path = []\n",
        "            while current:\n",
        "                path.append(current)\n",
        "                current = came_from[current]\n",
        "            return path[::-1], visited\n",
        "\n",
        "        # Explore neighbors\n",
        "        for direction in directions:\n",
        "            neighbor = (current[0] + direction[0], current[1] + direction[1])\n",
        "            if 0 <= neighbor[0] < rows and 0 <= neighbor[1] < cols:  # Check grid boundaries\n",
        "                if grid[neighbor[0]][neighbor[1]] == 0 and neighbor not in visited:  # Check if traversable\n",
        "                    heapq.heappush(priority_queue, (euclidean_distance(neighbor, goal), neighbor))\n",
        "                    came_from[neighbor] = current\n",
        "\n",
        "    return None, visited  # No path found\n",
        "\n",
        "# Visualize the grid, obstacles, explored nodes, and the final path\n",
        "def visualize(grid, path, visited, start, goal):\n",
        "    grid = np.array(grid)\n",
        "\n",
        "    # Plot the grid\n",
        "    plt.imshow(grid, cmap='gray', origin='upper')\n",
        "\n",
        "    # Mark the explored nodes\n",
        "    label_visited = False  # Ensure the label 'Explored' appears only once\n",
        "    for node in visited:\n",
        "        if not label_visited:\n",
        "            plt.scatter(node[1], node[0], c='yellow', s=100, label='Explored')\n",
        "            label_visited = True\n",
        "        else:\n",
        "            plt.scatter(node[1], node[0], c='yellow', s=100)\n",
        "\n",
        "    # Mark the path\n",
        "    if path:\n",
        "        label_path = False  # Ensure the label 'Path' appears only once\n",
        "        for node in path:\n",
        "            if not label_path:\n",
        "                plt.scatter(node[1], node[0], c='blue', s=100, label='Path')\n",
        "                label_path = True\n",
        "            else:\n",
        "                plt.scatter(node[1], node[0], c='blue', s=100)\n",
        "\n",
        "    # Mark the start and goal\n",
        "    plt.scatter(start[1], start[0], c='green', s=200, label='Start')\n",
        "    plt.scatter(goal[1], goal[0], c='red', s=200, label='Goal')\n",
        "\n",
        "    # Display the legend\n",
        "    plt.legend()\n",
        "    plt.show()\n",
        "\n",
        "# Example grid (0 = free space, 1 = obstacle)\n",
        "grid = [\n",
        "    [0, 0, 0, 1, 0],\n",
        "    [1, 1, 0, 1, 0],\n",
        "    [0, 0, 0, 0, 0],\n",
        "    [0, 1, 1, 1, 0],\n",
        "    [0, 0, 0, 0, 0]\n",
        "]\n",
        "\n",
        "start = (0, 0)  # Starting coordinates\n",
        "goal = (4, 4)   # Goal coordinates\n",
        "\n",
        "# Find the path using GBFS\n",
        "path, visited = gbfs(grid, start, goal)\n",
        "\n",
        "# Visualize the results\n",
        "visualize(grid, path, visited, start, goal)\n"
      ],
      "metadata": {
        "colab": {
          "base_uri": "https://localhost:8080/",
          "height": 430
        },
        "id": "0N5Z-tiacaAc",
        "outputId": "3de89de8-4fe2-4ea5-b837-0552e7c59ebe"
      },
      "execution_count": null,
      "outputs": [
        {
          "output_type": "display_data",
          "data": {
            "text/plain": [
              "<Figure size 640x480 with 1 Axes>"
            ],
            "image/png": "[encoded data removed]"
          },
          "metadata": {}
        }
      ]
    },
    {
      "cell_type": "markdown",
      "source": [],
      "metadata": {
        "id": "jv9IHFmSlYRB"
      }
    },
    {
      "cell_type": "code",
      "source": [
        "!pip install nbconvert AI ASSIGNMENT.ipynb"
      ],
      "metadata": {
        "id": "qzCPLz9ad0yk"
      },
      "execution_count": null,
      "outputs": []
    },
    {
      "cell_type": "code",
      "source": [
        "!apt-get install texlive-xetex texlive-fonts-recommended texlive-plain-generic\n"
      ],
      "metadata": {
        "id": "1Ggd7tSLeUXg"
      },
      "execution_count": null,
      "outputs": []
    },
    {
      "cell_type": "code",
      "source": [
        "from google.colab import drive\n",
        "drive.mount('/content/drive')\n"
      ],
      "metadata": {
        "colab": {
          "base_uri": "https://localhost:8080/"
        },
        "id": "eNKWNtROesGC",
        "outputId": "5a2d28e1-06b8-457e-e72d-9d76562b698e"
      },
      "execution_count": null,
      "outputs": [
        {
          "output_type": "stream",
          "name": "stdout",
          "text": [
            "Mounted at /content/drive\n"
          ]
        }
      ]
    },
    {
      "cell_type": "code",
      "source": [
        "!jupyter nbconvert --to pdf AI ASSIGNMENT.ipynb"
      ],
      "metadata": {
        "colab": {
          "base_uri": "https://localhost:8080/"
        },
        "id": "18lhyDn_jDhm",
        "outputId": "45c187e4-0451-457e-efb6-b96a692976fc"
      },
      "execution_count": 48,
      "outputs": [
        {
          "output_type": "stream",
          "name": "stdout",
          "text": [
            "[NbConvertApp] WARNING | pattern 'AI' matched no files\n",
            "[NbConvertApp] WARNING | pattern 'ASSIGNMENT.ipynb' matched no files\n",
            "This application is used to convert notebook files (*.ipynb)\n",
            "        to various other formats.\n",
            "\n",
            "        WARNING: THE COMMANDLINE INTERFACE MAY CHANGE IN FUTURE RELEASES.\n",
            "\n",
            "Options\n",
            "=======\n",
            "The options below are convenience aliases to configurable class-options,\n",
            "as listed in the \"Equivalent to\" description-line of the aliases.\n",
            "To see all configurable class-options for some <cmd>, use:\n",
            "    <cmd> --help-all\n",
            "\n",
            "--debug\n",
            "    set log level to logging.DEBUG (maximize logging output)\n",
            "    Equivalent to: [--Application.log_level=10]\n",
            "--show-config\n",
            "    Show the application's configuration (human-readable format)\n",
            "    Equivalent to: [--Application.show_config=True]\n",
            "--show-config-json\n",
            "    Show the application's configuration (json format)\n",
            "    Equivalent to: [--Application.show_config_json=True]\n",
            "--generate-config\n",
            "    generate default config file\n",
            "    Equivalent to: [--JupyterApp.generate_config=True]\n",
            "-y\n",
            "    Answer yes to any questions instead of prompting.\n",
            "    Equivalent to: [--JupyterApp.answer_yes=True]\n",
            "--execute\n",
            "    Execute the notebook prior to export.\n",
            "    Equivalent to: [--ExecutePreprocessor.enabled=True]\n",
            "--allow-errors\n",
            "    Continue notebook execution even if one of the cells throws an error and include the error message in the cell output (the default behaviour is to abort conversion). This flag is only relevant if '--execute' was specified, too.\n",
            "    Equivalent to: [--ExecutePreprocessor.allow_errors=True]\n",
            "--stdin\n",
            "    read a single notebook file from stdin. Write the resulting notebook with default basename 'notebook.*'\n",
            "    Equivalent to: [--NbConvertApp.from_stdin=True]\n",
            "--stdout\n",
            "    Write notebook output to stdout instead of files.\n",
            "    Equivalent to: [--NbConvertApp.writer_class=StdoutWriter]\n",
            "--inplace\n",
            "    Run nbconvert in place, overwriting the existing notebook (only\n",
            "            relevant when converting to notebook format)\n",
            "    Equivalent to: [--NbConvertApp.use_output_suffix=False --NbConvertApp.export_format=notebook --FilesWriter.build_directory=]\n",
            "--clear-output\n",
            "    Clear output of current file and save in place,\n",
            "            overwriting the existing notebook.\n",
            "    Equivalent to: [--NbConvertApp.use_output_suffix=False --NbConvertApp.export_format=notebook --FilesWriter.build_directory= --ClearOutputPreprocessor.enabled=True]\n",
            "--no-prompt\n",
            "    Exclude input and output prompts from converted document.\n",
            "    Equivalent to: [--TemplateExporter.exclude_input_prompt=True --TemplateExporter.exclude_output_prompt=True]\n",
            "--no-input\n",
            "    Exclude input cells and output prompts from converted document.\n",
            "            This mode is ideal for generating code-free reports.\n",
            "    Equivalent to: [--TemplateExporter.exclude_output_prompt=True --TemplateExporter.exclude_input=True --TemplateExporter.exclude_input_prompt=True]\n",
            "--allow-chromium-download\n",
            "    Whether to allow downloading chromium if no suitable version is found on the system.\n",
            "    Equivalent to: [--WebPDFExporter.allow_chromium_download=True]\n",
            "--disable-chromium-sandbox\n",
            "    Disable chromium security sandbox when converting to PDF..\n",
            "    Equivalent to: [--WebPDFExporter.disable_sandbox=True]\n",
            "--show-input\n",
            "    Shows code input. This flag is only useful for dejavu users.\n",
            "    Equivalent to: [--TemplateExporter.exclude_input=False]\n",
            "--embed-images\n",
            "    Embed the images as base64 dataurls in the output. This flag is only useful for the HTML/WebPDF/Slides exports.\n",
            "    Equivalent to: [--HTMLExporter.embed_images=True]\n",
            "--sanitize-html\n",
            "    Whether the HTML in Markdown cells and cell outputs should be sanitized..\n",
            "    Equivalent to: [--HTMLExporter.sanitize_html=True]\n",
            "--log-level=<Enum>\n",
            "    Set the log level by value or name.\n",
            "    Choices: any of [0, 10, 20, 30, 40, 50, 'DEBUG', 'INFO', 'WARN', 'ERROR', 'CRITICAL']\n",
            "    Default: 30\n",
            "    Equivalent to: [--Application.log_level]\n",
            "--config=<Unicode>\n",
            "    Full path of a config file.\n",
            "    Default: ''\n",
            "    Equivalent to: [--JupyterApp.config_file]\n",
            "--to=<Unicode>\n",
            "    The export format to be used, either one of the built-in formats\n",
            "            ['asciidoc', 'custom', 'html', 'latex', 'markdown', 'notebook', 'pdf', 'python', 'rst', 'script', 'slides', 'webpdf']\n",
            "            or a dotted object name that represents the import path for an\n",
            "            ``Exporter`` class\n",
            "    Default: ''\n",
            "    Equivalent to: [--NbConvertApp.export_format]\n",
            "--template=<Unicode>\n",
            "    Name of the template to use\n",
            "    Default: ''\n",
            "    Equivalent to: [--TemplateExporter.template_name]\n",
            "--template-file=<Unicode>\n",
            "    Name of the template file to use\n",
            "    Default: None\n",
            "    Equivalent to: [--TemplateExporter.template_file]\n",
            "--theme=<Unicode>\n",
            "    Template specific theme(e.g. the name of a JupyterLab CSS theme distributed\n",
            "    as prebuilt extension for the lab template)\n",
            "    Default: 'light'\n",
            "    Equivalent to: [--HTMLExporter.theme]\n",
            "--sanitize_html=<Bool>\n",
            "    Whether the HTML in Markdown cells and cell outputs should be sanitized.This\n",
            "    should be set to True by nbviewer or similar tools.\n",
            "    Default: False\n",
            "    Equivalent to: [--HTMLExporter.sanitize_html]\n",
            "--writer=<DottedObjectName>\n",
            "    Writer class used to write the\n",
            "                                        results of the conversion\n",
            "    Default: 'FilesWriter'\n",
            "    Equivalent to: [--NbConvertApp.writer_class]\n",
            "--post=<DottedOrNone>\n",
            "    PostProcessor class used to write the\n",
            "                                        results of the conversion\n",
            "    Default: ''\n",
            "    Equivalent to: [--NbConvertApp.postprocessor_class]\n",
            "--output=<Unicode>\n",
            "    overwrite base name use for output files.\n",
            "                can only be used when converting one notebook at a time.\n",
            "    Default: ''\n",
            "    Equivalent to: [--NbConvertApp.output_base]\n",
            "--output-dir=<Unicode>\n",
            "    Directory to write output(s) to. Defaults\n",
            "                                  to output to the directory of each notebook. To recover\n",
            "                                  previous default behaviour (outputting to the current\n",
            "                                  working directory) use . as the flag value.\n",
            "    Default: ''\n",
            "    Equivalent to: [--FilesWriter.build_directory]\n",
            "--reveal-prefix=<Unicode>\n",
            "    The URL prefix for reveal.js (version 3.x).\n",
            "            This defaults to the reveal CDN, but can be any url pointing to a copy\n",
            "            of reveal.js.\n",
            "            For speaker notes to work, this must be a relative path to a local\n",
            "            copy of reveal.js: e.g., \"reveal.js\".\n",
            "            If a relative path is given, it must be a subdirectory of the\n",
            "            current directory (from which the server is run).\n",
            "            See the usage documentation\n",
            "            (https://nbconvert.readthedocs.io/en/latest/usage.html#reveal-js-html-slideshow)\n",
            "            for more details.\n",
            "    Default: ''\n",
            "    Equivalent to: [--SlidesExporter.reveal_url_prefix]\n",
            "--nbformat=<Enum>\n",
            "    The nbformat version to write.\n",
            "            Use this to downgrade notebooks.\n",
            "    Choices: any of [1, 2, 3, 4]\n",
            "    Default: 4\n",
            "    Equivalent to: [--NotebookExporter.nbformat_version]\n",
            "\n",
            "Examples\n",
            "--------\n",
            "\n",
            "    The simplest way to use nbconvert is\n",
            "\n",
            "            > jupyter nbconvert mynotebook.ipynb --to html\n",
            "\n",
            "            Options include ['asciidoc', 'custom', 'html', 'latex', 'markdown', 'notebook', 'pdf', 'python', 'rst', 'script', 'slides', 'webpdf'].\n",
            "\n",
            "            > jupyter nbconvert --to latex mynotebook.ipynb\n",
            "\n",
            "            Both HTML and LaTeX support multiple output templates. LaTeX includes\n",
            "            'base', 'article' and 'report'.  HTML includes 'basic', 'lab' and\n",
            "            'classic'. You can specify the flavor of the format used.\n",
            "\n",
            "            > jupyter nbconvert --to html --template lab mynotebook.ipynb\n",
            "\n",
            "            You can also pipe the output to stdout, rather than a file\n",
            "\n",
            "            > jupyter nbconvert mynotebook.ipynb --stdout\n",
            "\n",
            "            PDF is generated via latex\n",
            "\n",
            "            > jupyter nbconvert mynotebook.ipynb --to pdf\n",
            "\n",
            "            You can get (and serve) a Reveal.js-powered slideshow\n",
            "\n",
            "            > jupyter nbconvert myslides.ipynb --to slides --post serve\n",
            "\n",
            "            Multiple notebooks can be given at the command line in a couple of\n",
            "            different ways:\n",
            "\n",
            "            > jupyter nbconvert notebook*.ipynb\n",
            "            > jupyter nbconvert notebook1.ipynb notebook2.ipynb\n",
            "\n",
            "            or you can specify the notebooks list in a config file, containing::\n",
            "\n",
            "                c.NbConvertApp.notebooks = [\"my_notebook.ipynb\"]\n",
            "\n",
            "            > jupyter nbconvert --config mycfg.py\n",
            "\n",
            "To see all available configurables, use `--help-all`.\n",
            "\n"
          ]
        }
      ]
    }
  ]
}